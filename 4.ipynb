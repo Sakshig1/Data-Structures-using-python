{
 "cells": [
  {
   "cell_type": "code",
   "execution_count": 1,
   "id": "a7141b50-8549-4fe0-bd8d-96f6063f2eb1",
   "metadata": {},
   "outputs": [
    {
     "name": "stdout",
     "output_type": "stream",
     "text": [
      "Highest Temperature of Each City: [37, 40, 35]\n",
      "Day of Highest Temperature for Each City: [4, 5, 7]\n",
      "Average Temperature of Each City: [34.0, 35.142857142857146, 32.0]\n"
     ]
    }
   ],
   "source": [
    "def temperature_summary(temps):\n",
    "    highest_temps = []\n",
    "    highest_temp_days = []\n",
    "    avg_temps = []\n",
    "    \n",
    "    for i in range(len(temps)):\n",
    "        max_temp = max(temps[i])\n",
    "        day_of_max_temp = temps[i].index(max_temp) + 1 \n",
    "        avg_temp = sum(temps[i]) / len(temps[i])\n",
    "        \n",
    "        highest_temps.append(max_temp)\n",
    "        highest_temp_days.append(day_of_max_temp)\n",
    "        avg_temps.append(avg_temp)\n",
    "    \n",
    "    return highest_temps, highest_temp_days, avg_temps\n",
    "\n",
    "temps = [\n",
    "    [32, 35, 36, 37, 33, 34, 31],  \n",
    "    [30, 33, 34, 38, 40, 36, 35],  \n",
    "    [29, 30, 32, 31, 33, 34, 35]   \n",
    "]\n",
    "\n",
    "highest_temps, highest_temp_days, avg_temps = temperature_summary(temps)\n",
    "\n",
    "print(\"Highest Temperature of Each City:\", highest_temps)  \n",
    "print(\"Day of Highest Temperature for Each City:\", highest_temp_days)  \n",
    "print(\"Average Temperature of Each City:\", avg_temps)  \n"
   ]
  },
  {
   "cell_type": "code",
   "execution_count": null,
   "id": "ec65b4a7-4c5a-4537-afbc-1241ae6fc974",
   "metadata": {},
   "outputs": [],
   "source": []
  }
 ],
 "metadata": {
  "kernelspec": {
   "display_name": "Python 3 (ipykernel)",
   "language": "python",
   "name": "python3"
  },
  "language_info": {
   "codemirror_mode": {
    "name": "ipython",
    "version": 3
   },
   "file_extension": ".py",
   "mimetype": "text/x-python",
   "name": "python",
   "nbconvert_exporter": "python",
   "pygments_lexer": "ipython3",
   "version": "3.12.4"
  }
 },
 "nbformat": 4,
 "nbformat_minor": 5
}
