{
 "cells": [
  {
   "cell_type": "code",
   "execution_count": 2,
   "id": "0849fad4-7dc0-49a3-a1f1-c225eb7b7a09",
   "metadata": {},
   "outputs": [
    {
     "name": "stdout",
     "output_type": "stream",
     "text": [
      "22\n"
     ]
    }
   ],
   "source": [
    "import numpy as np\n",
    "def determinant(matrix):\n",
    "    return int(np.linalg.det(matrix))\n",
    "\n",
    "matrix = [\n",
    "    [1, 2, 3],\n",
    "    [0, 4, 5],\n",
    "    [1, 0, 6]\n",
    "]\n",
    "print(determinant(matrix))  \n"
   ]
  },
  {
   "cell_type": "code",
   "execution_count": null,
   "id": "1b4a4ad6-2423-48de-bd8a-fe219b5c8552",
   "metadata": {},
   "outputs": [],
   "source": []
  }
 ],
 "metadata": {
  "kernelspec": {
   "display_name": "Python 3 (ipykernel)",
   "language": "python",
   "name": "python3"
  },
  "language_info": {
   "codemirror_mode": {
    "name": "ipython",
    "version": 3
   },
   "file_extension": ".py",
   "mimetype": "text/x-python",
   "name": "python",
   "nbconvert_exporter": "python",
   "pygments_lexer": "ipython3",
   "version": "3.12.4"
  }
 },
 "nbformat": 4,
 "nbformat_minor": 5
}
