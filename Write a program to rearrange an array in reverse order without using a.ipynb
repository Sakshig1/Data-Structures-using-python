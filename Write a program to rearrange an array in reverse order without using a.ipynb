{
 "cells": [
  {
   "cell_type": "code",
   "execution_count": 3,
   "id": "cb668786-fb71-4439-ba93-62721ad4affa",
   "metadata": {},
   "outputs": [
    {
     "name": "stdin",
     "output_type": "stream",
     "text": [
      "Enter number of elements:  3\n",
      "Enter element 1:  2\n",
      "Enter element 2:  3\n",
      "Enter element 3:  1\n"
     ]
    },
    {
     "name": "stdout",
     "output_type": "stream",
     "text": [
      "Reversed array: [1, 3, 2]\n"
     ]
    }
   ],
   "source": [
    "def reverse_array():\n",
    "    n = int(input(\"Enter number of elements: \"))\n",
    "    arr = [int(input(f\"Enter element {i+1}: \")) for i in range(n)]\n",
    "    arr.reverse()\n",
    "    print(\"Reversed array:\", arr)\n",
    "\n",
    "reverse_array()\n"
   ]
  },
  {
   "cell_type": "code",
   "execution_count": null,
   "id": "35b397fa-8cdd-48b8-a5b5-7b3eef1f23ad",
   "metadata": {},
   "outputs": [],
   "source": []
  }
 ],
 "metadata": {
  "kernelspec": {
   "display_name": "Python 3 (ipykernel)",
   "language": "python",
   "name": "python3"
  },
  "language_info": {
   "codemirror_mode": {
    "name": "ipython",
    "version": 3
   },
   "file_extension": ".py",
   "mimetype": "text/x-python",
   "name": "python",
   "nbconvert_exporter": "python",
   "pygments_lexer": "ipython3",
   "version": "3.12.4"
  }
 },
 "nbformat": 4,
 "nbformat_minor": 5
}
