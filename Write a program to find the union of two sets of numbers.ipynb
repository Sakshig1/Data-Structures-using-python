{
 "cells": [
  {
   "cell_type": "code",
   "execution_count": 1,
   "id": "38c65245-1d8d-4ece-9a9c-6210056c6704",
   "metadata": {},
   "outputs": [
    {
     "name": "stdin",
     "output_type": "stream",
     "text": [
      "Enter number of elements in first set:  3\n",
      "Enter element 1 of first set:  12\n",
      "Enter element 2 of first set:  23\n",
      "Enter element 3 of first set:  32\n",
      "Enter number of elements in second set:  3\n",
      "Enter element 1 of second set:  23\n",
      "Enter element 2 of second set:  45\n",
      "Enter element 3 of second set:  54\n"
     ]
    },
    {
     "name": "stdout",
     "output_type": "stream",
     "text": [
      "Union of sets: {32, 54, 23, 12, 45}\n"
     ]
    }
   ],
   "source": [
    "def union_of_sets():\n",
    "    n1 = int(input(\"Enter number of elements in first set: \"))\n",
    "    set1 = {int(input(f\"Enter element {i+1} of first set: \")) for i in range(n1)}\n",
    "    \n",
    "    n2 = int(input(\"Enter number of elements in second set: \"))\n",
    "    set2 = {int(input(f\"Enter element {i+1} of second set: \")) for i in range(n2)}\n",
    "    \n",
    "    union_set = set1.union(set2)\n",
    "    print(f\"Union of sets: {union_set}\")\n",
    "\n",
    "union_of_sets()\n"
   ]
  },
  {
   "cell_type": "code",
   "execution_count": null,
   "id": "0c3f10f6-9f33-40cc-9096-1632b5c24870",
   "metadata": {},
   "outputs": [],
   "source": []
  }
 ],
 "metadata": {
  "kernelspec": {
   "display_name": "Python 3 (ipykernel)",
   "language": "python",
   "name": "python3"
  },
  "language_info": {
   "codemirror_mode": {
    "name": "ipython",
    "version": 3
   },
   "file_extension": ".py",
   "mimetype": "text/x-python",
   "name": "python",
   "nbconvert_exporter": "python",
   "pygments_lexer": "ipython3",
   "version": "3.12.4"
  }
 },
 "nbformat": 4,
 "nbformat_minor": 5
}
