{
 "cells": [
  {
   "cell_type": "code",
   "execution_count": 1,
   "id": "8b1cd5a5-9081-4f34-b335-ba99bc13e3ca",
   "metadata": {},
   "outputs": [
    {
     "name": "stdin",
     "output_type": "stream",
     "text": [
      "Enter number of elements:  3\n",
      "Enter element 1:  3\n",
      "Enter element 2:  7\n",
      "Enter element 3:  6\n"
     ]
    },
    {
     "name": "stdout",
     "output_type": "stream",
     "text": [
      "Smallest element is: 3\n"
     ]
    }
   ],
   "source": [
    "def find_smallest():\n",
    "    n = int(input(\"Enter number of elements: \"))\n",
    "    arr = [int(input(f\"Enter element {i+1}: \")) for i in range(n)]\n",
    "    smallest = min(arr)\n",
    "    print(\"Smallest element is:\", smallest)\n",
    "\n",
    "find_smallest()\n"
   ]
  },
  {
   "cell_type": "code",
   "execution_count": null,
   "id": "8c953486-dae9-411b-b4a2-27586f7768a9",
   "metadata": {},
   "outputs": [],
   "source": []
  }
 ],
 "metadata": {
  "kernelspec": {
   "display_name": "Python 3 (ipykernel)",
   "language": "python",
   "name": "python3"
  },
  "language_info": {
   "codemirror_mode": {
    "name": "ipython",
    "version": 3
   },
   "file_extension": ".py",
   "mimetype": "text/x-python",
   "name": "python",
   "nbconvert_exporter": "python",
   "pygments_lexer": "ipython3",
   "version": "3.12.4"
  }
 },
 "nbformat": 4,
 "nbformat_minor": 5
}
