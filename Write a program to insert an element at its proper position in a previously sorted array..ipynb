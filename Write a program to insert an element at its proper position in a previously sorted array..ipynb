{
 "cells": [
  {
   "cell_type": "code",
   "execution_count": 2,
   "id": "e41bd8d2-8192-4456-8dea-a60c8fde7223",
   "metadata": {},
   "outputs": [
    {
     "name": "stdin",
     "output_type": "stream",
     "text": [
      "Enter number of elements:  3\n",
      "Enter element 1:  3\n",
      "Enter element 2:  4\n",
      "Enter element 3:  2\n",
      "Enter the element to insert:  4\n"
     ]
    },
    {
     "name": "stdout",
     "output_type": "stream",
     "text": [
      "Array after insertion: [2, 3, 4, 4]\n"
     ]
    }
   ],
   "source": [
    "def insert_sorted():\n",
    "    n = int(input(\"Enter number of elements: \"))\n",
    "    arr = [int(input(f\"Enter element {i+1}: \")) for i in range(n)]\n",
    "    arr.sort()\n",
    "    element = int(input(\"Enter the element to insert: \"))\n",
    "    arr.append(element)\n",
    "    arr.sort()\n",
    "    print(\"Array after insertion:\", arr)\n",
    "\n",
    "insert_sorted()\n"
   ]
  },
  {
   "cell_type": "code",
   "execution_count": null,
   "id": "37e23631-ab74-4ac2-9e74-e2a9e8add5ba",
   "metadata": {},
   "outputs": [],
   "source": []
  }
 ],
 "metadata": {
  "kernelspec": {
   "display_name": "Python 3 (ipykernel)",
   "language": "python",
   "name": "python3"
  },
  "language_info": {
   "codemirror_mode": {
    "name": "ipython",
    "version": 3
   },
   "file_extension": ".py",
   "mimetype": "text/x-python",
   "name": "python",
   "nbconvert_exporter": "python",
   "pygments_lexer": "ipython3",
   "version": "3.12.4"
  }
 },
 "nbformat": 4,
 "nbformat_minor": 5
}
