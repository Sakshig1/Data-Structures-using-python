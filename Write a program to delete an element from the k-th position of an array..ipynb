{
 "cells": [
  {
   "cell_type": "code",
   "execution_count": 2,
   "id": "cf70b9f5-899f-4e7b-b69b-e72d1e3103b3",
   "metadata": {},
   "outputs": [
    {
     "name": "stdin",
     "output_type": "stream",
     "text": [
      "Enter number of elements:  3\n",
      "Enter element 1:  3\n",
      "Enter element 2:  4\n",
      "Enter element 3:  2\n",
      "Enter the position to delete:  2\n"
     ]
    },
    {
     "name": "stdout",
     "output_type": "stream",
     "text": [
      "Array after deletion: [3, 2]\n"
     ]
    }
   ],
   "source": [
    "def delete_element():\n",
    "    n = int(input(\"Enter number of elements: \"))\n",
    "    arr = [int(input(f\"Enter element {i+1}: \")) for i in range(n)]\n",
    "    k = int(input(\"Enter the position to delete: \"))\n",
    "    if 1 <= k <= n:\n",
    "        del arr[k-1]\n",
    "        print(\"Array after deletion:\", arr)\n",
    "    else:\n",
    "        print(\"Invalid position.\")\n",
    "\n",
    "delete_element()\n",
    "\n"
   ]
  },
  {
   "cell_type": "code",
   "execution_count": null,
   "id": "6079d5c4-a980-43ec-b328-5f244cc837cb",
   "metadata": {},
   "outputs": [],
   "source": []
  }
 ],
 "metadata": {
  "kernelspec": {
   "display_name": "Python 3 (ipykernel)",
   "language": "python",
   "name": "python3"
  },
  "language_info": {
   "codemirror_mode": {
    "name": "ipython",
    "version": 3
   },
   "file_extension": ".py",
   "mimetype": "text/x-python",
   "name": "python",
   "nbconvert_exporter": "python",
   "pygments_lexer": "ipython3",
   "version": "3.12.4"
  }
 },
 "nbformat": 4,
 "nbformat_minor": 5
}
