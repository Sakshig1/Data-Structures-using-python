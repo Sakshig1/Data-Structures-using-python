{
 "cells": [
  {
   "cell_type": "code",
   "execution_count": 5,
   "id": "027f1e1e-00ef-478e-9870-528e2744e0d0",
   "metadata": {},
   "outputs": [
    {
     "name": "stdout",
     "output_type": "stream",
     "text": [
      "<class 'numpy.ndarray'>\n",
      "[3, 5, 2, 7, 8, 4]\n"
     ]
    }
   ],
   "source": [
    "import numpy as np\n",
    "x=np.array([3,5,2,7,8,4,5])\n",
    "print(type(x))\n",
    "def remove_duplicates(x):\n",
    "    new_arr=[]\n",
    "    for i in x:\n",
    "        if i not in new_arr:\n",
    "            new_arr.append(i)\n",
    "    return new_arr\n",
    "res=remove_duplicates(x)\n",
    "print(res)"
   ]
  },
  {
   "cell_type": "code",
   "execution_count": 7,
   "id": "8bf30663-461e-47b0-a77e-213b578d0991",
   "metadata": {},
   "outputs": [
    {
     "name": "stdout",
     "output_type": "stream",
     "text": [
      "<class 'numpy.ndarray'>\n",
      "[2 3 4 5 7 8]\n"
     ]
    }
   ],
   "source": [
    "import numpy as np\n",
    "x=np.array([3,5,2,7,8,4,5])\n",
    "print(type(x))\n",
    "def remove_duplicates(x):\n",
    "    unique_ele=list(set(x))\n",
    "    return np.array(unique_ele)\n",
    "res=remove_duplicates(x)\n",
    "print(res)"
   ]
  },
  {
   "cell_type": "code",
   "execution_count": null,
   "id": "c98bc853-9faa-4fd7-bcb0-3f7d7c007653",
   "metadata": {},
   "outputs": [],
   "source": []
  }
 ],
 "metadata": {
  "kernelspec": {
   "display_name": "Python 3 (ipykernel)",
   "language": "python",
   "name": "python3"
  },
  "language_info": {
   "codemirror_mode": {
    "name": "ipython",
    "version": 3
   },
   "file_extension": ".py",
   "mimetype": "text/x-python",
   "name": "python",
   "nbconvert_exporter": "python",
   "pygments_lexer": "ipython3",
   "version": "3.12.4"
  }
 },
 "nbformat": 4,
 "nbformat_minor": 5
}
