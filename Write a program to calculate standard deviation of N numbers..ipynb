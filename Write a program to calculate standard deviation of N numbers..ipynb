{
 "cells": [
  {
   "cell_type": "code",
   "execution_count": 3,
   "id": "1ffe5f70-7096-4d4b-aad8-fe021f1ce6ca",
   "metadata": {},
   "outputs": [
    {
     "name": "stdin",
     "output_type": "stream",
     "text": [
      "Enter number of elements:  2\n",
      "Enter element 1:  3\n",
      "Enter element 2:  2\n"
     ]
    },
    {
     "name": "stdout",
     "output_type": "stream",
     "text": [
      "Standard Deviation: 0.5\n"
     ]
    }
   ],
   "source": [
    "import math\n",
    "\n",
    "def standard_deviation():\n",
    "    n = int(input(\"Enter number of elements: \"))\n",
    "    arr = [float(input(f\"Enter element {i+1}: \")) for i in range(n)]\n",
    "    mean = sum(arr) / n\n",
    "    variance = sum((x - mean) ** 2 for x in arr) / n\n",
    "    std_dev = math.sqrt(variance)\n",
    "    print(f\"Standard Deviation: {std_dev}\")\n",
    "\n",
    "standard_deviation()\n"
   ]
  },
  {
   "cell_type": "code",
   "execution_count": null,
   "id": "7a8b65f8-51cc-4e10-a5be-1f80344ff33e",
   "metadata": {},
   "outputs": [],
   "source": []
  }
 ],
 "metadata": {
  "kernelspec": {
   "display_name": "Python 3 (ipykernel)",
   "language": "python",
   "name": "python3"
  },
  "language_info": {
   "codemirror_mode": {
    "name": "ipython",
    "version": 3
   },
   "file_extension": ".py",
   "mimetype": "text/x-python",
   "name": "python",
   "nbconvert_exporter": "python",
   "pygments_lexer": "ipython3",
   "version": "3.12.4"
  }
 },
 "nbformat": 4,
 "nbformat_minor": 5
}
