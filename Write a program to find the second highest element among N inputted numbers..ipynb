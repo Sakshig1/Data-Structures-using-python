{
 "cells": [
  {
   "cell_type": "code",
   "execution_count": 1,
   "id": "73e81523-10c2-4a48-aa91-82828471c135",
   "metadata": {},
   "outputs": [
    {
     "name": "stdin",
     "output_type": "stream",
     "text": [
      "Enter number of elements:  4\n",
      "Enter element 1:  33\n",
      "Enter element 2:  23\n",
      "Enter element 3:  54\n",
      "Enter element 4:  77\n"
     ]
    },
    {
     "name": "stdout",
     "output_type": "stream",
     "text": [
      "Second highest element: 54\n"
     ]
    }
   ],
   "source": [
    "def second_highest():\n",
    "    n = int(input(\"Enter number of elements: \"))\n",
    "    arr = [int(input(f\"Enter element {i+1}: \")) for i in range(n)]\n",
    "    arr = list(set(arr))  # Remove duplicates\n",
    "    arr.sort()\n",
    "    if len(arr) >= 2:\n",
    "        print(\"Second highest element:\", arr[-2])\n",
    "    else:\n",
    "        print(\"Second highest element not found.\")\n",
    "\n",
    "second_highest()\n"
   ]
  },
  {
   "cell_type": "code",
   "execution_count": null,
   "id": "7d9a3e7c-d559-4bab-8b61-46137e8b2d60",
   "metadata": {},
   "outputs": [],
   "source": []
  }
 ],
 "metadata": {
  "kernelspec": {
   "display_name": "Python 3 (ipykernel)",
   "language": "python",
   "name": "python3"
  },
  "language_info": {
   "codemirror_mode": {
    "name": "ipython",
    "version": 3
   },
   "file_extension": ".py",
   "mimetype": "text/x-python",
   "name": "python",
   "nbconvert_exporter": "python",
   "pygments_lexer": "ipython3",
   "version": "3.12.4"
  }
 },
 "nbformat": 4,
 "nbformat_minor": 5
}
