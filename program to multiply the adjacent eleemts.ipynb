{
 "cells": [
  {
   "cell_type": "code",
   "execution_count": 5,
   "id": "a81b9c41-6c0a-49a0-8c5d-6e2329b66355",
   "metadata": {},
   "outputs": [
    {
     "name": "stdin",
     "output_type": "stream",
     "text": [
      "Enter the number of elements in the tuple:  5\n",
      "Enter 5 elements separated by space:  2 5 10 12 7\n"
     ]
    },
    {
     "name": "stdout",
     "output_type": "stream",
     "text": [
      "Input Tuple: (2, 5, 10, 12, 7)\n",
      "Result: [10, 50, 120, 84]\n"
     ]
    }
   ],
   "source": [
    "def multiply_adjacent_elements(input_tuple):\n",
    "    if len(input_tuple) < 2:\n",
    "        return []  \n",
    "    return [input_tuple[i] * input_tuple[i + 1] for i in range(len(input_tuple) - 1)]\n",
    "n = int(input(\"Enter the number of elements in the tuple: \"))\n",
    "elements = list(map(int, input(f\"Enter {n} elements separated by space: \").split()))\n",
    "if len(elements) != n:\n",
    "    print(\"Error: The number of elements entered does not match the specified count.\")\n",
    "else:\n",
    "    input_tuple = tuple(elements)\n",
    "    result = multiply_adjacent_elements(input_tuple)\n",
    "    print(\"Input Tuple:\", input_tuple)\n",
    "    print(\"Result:\", result)"
   ]
  },
  {
   "cell_type": "code",
   "execution_count": 7,
   "id": "ecb06daf-bb43-4113-9f6b-20b9fcc0c6ac",
   "metadata": {},
   "outputs": [
    {
     "name": "stdin",
     "output_type": "stream",
     "text": [
      "Enter the number of elements:  5\n",
      "Enter the elements separated by space:  2 5 10 12 7\n"
     ]
    },
    {
     "name": "stdout",
     "output_type": "stream",
     "text": [
      "Result: [10, 50, 120, 84]\n"
     ]
    }
   ],
   "source": [
    "def multiply_adjacent_elements(elements):\n",
    "    return [elements[i] * elements[i + 1] for i in range(len(elements) - 1)]\n",
    "\n",
    "n = int(input(\"Enter the number of elements: \"))\n",
    "elements = list(map(int, input(\"Enter the elements separated by space: \").split()))\n",
    "\n",
    "if len(elements) == n:\n",
    "    result = multiply_adjacent_elements(elements)\n",
    "    print(\"Result:\", result)\n",
    "else:\n",
    "    print(\"Error: The number of elements does not match the specified count.\")"
   ]
  },
  {
   "cell_type": "code",
   "execution_count": 11,
   "id": "c1b88f64-0abe-43a9-b13b-689ec23f4d22",
   "metadata": {},
   "outputs": [
    {
     "name": "stdin",
     "output_type": "stream",
     "text": [
      "Enter the elements of the list separated by spaces:  2 5 10 12 7\n"
     ]
    },
    {
     "name": "stdout",
     "output_type": "stream",
     "text": [
      "Product of Adjacent Elements: (10, 50, 120, 84)\n"
     ]
    }
   ],
   "source": [
    "def multiply_adjacent_elements(arr):\n",
    "    # Check if the list has at least two elements\n",
    "    if len(arr) < 2:\n",
    "        return \"List must have at least two elements\"\n",
    "\n",
    "    result = []\n",
    "    \n",
    "    # Iterate through the list and multiply adjacent elements\n",
    "    for i in range(len(arr) - 1):\n",
    "        product = arr[i] * arr[i + 1]\n",
    "        result.append(product)\n",
    "    \n",
    "    # Return the result as a tuple\n",
    "    return tuple(result)\n",
    "\n",
    "# Get user input\n",
    "user_input = input(\"Enter the elements of the list separated by spaces: \")\n",
    "arr = list(map(int, user_input.split()))\n",
    "\n",
    "# Call the function and print the result\n",
    "print(\"Product of Adjacent Elements:\", multiply_adjacent_elements(arr))\n"
   ]
  },
  {
   "cell_type": "code",
   "execution_count": null,
   "id": "49c5f2c1-ec4e-473e-96fd-c5688e3c9911",
   "metadata": {},
   "outputs": [],
   "source": []
  }
 ],
 "metadata": {
  "kernelspec": {
   "display_name": "Python 3 (ipykernel)",
   "language": "python",
   "name": "python3"
  },
  "language_info": {
   "codemirror_mode": {
    "name": "ipython",
    "version": 3
   },
   "file_extension": ".py",
   "mimetype": "text/x-python",
   "name": "python",
   "nbconvert_exporter": "python",
   "pygments_lexer": "ipython3",
   "version": "3.12.4"
  }
 },
 "nbformat": 4,
 "nbformat_minor": 5
}
