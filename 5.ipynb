{
 "cells": [
  {
   "cell_type": "code",
   "execution_count": 2,
   "id": "2f7636b1-566b-4eda-9336-836bf243c6c5",
   "metadata": {},
   "outputs": [
    {
     "name": "stdout",
     "output_type": "stream",
     "text": [
      "[[1, 0, 1], [0, 0, 0], [1, 0, 1]]\n"
     ]
    }
   ],
   "source": [
    "def set_zeroes(matrix):\n",
    "    rows = len(matrix)\n",
    "    cols = len(matrix[0])\n",
    "    \n",
    "    zero_rows = set()\n",
    "    zero_cols = set()\n",
    "    \n",
    "    for i in range(rows):\n",
    "        for j in range(cols):\n",
    "            if matrix[i][j] == 0:\n",
    "                zero_rows.add(i)\n",
    "                zero_cols.add(j)\n",
    "    \n",
    "    for row in zero_rows:\n",
    "        for j in range(cols):\n",
    "            matrix[row][j] = 0\n",
    "    \n",
    "    for col in zero_cols:\n",
    "        for i in range(rows):\n",
    "            matrix[i][col] = 0\n",
    "    \n",
    "    return matrix\n",
    "\n",
    "matrix = [\n",
    "    [1, 1, 1],\n",
    "    [1, 0, 1],\n",
    "    [1, 1, 1]\n",
    "]\n",
    "print(set_zeroes(matrix))  \n"
   ]
  },
  {
   "cell_type": "code",
   "execution_count": null,
   "id": "965640ae-7ec2-42e8-bb31-0f47347faa29",
   "metadata": {},
   "outputs": [],
   "source": []
  }
 ],
 "metadata": {
  "kernelspec": {
   "display_name": "Python 3 (ipykernel)",
   "language": "python",
   "name": "python3"
  },
  "language_info": {
   "codemirror_mode": {
    "name": "ipython",
    "version": 3
   },
   "file_extension": ".py",
   "mimetype": "text/x-python",
   "name": "python",
   "nbconvert_exporter": "python",
   "pygments_lexer": "ipython3",
   "version": "3.12.4"
  }
 },
 "nbformat": 4,
 "nbformat_minor": 5
}
