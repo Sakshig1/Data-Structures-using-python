{
 "cells": [
  {
   "cell_type": "code",
   "execution_count": 2,
   "id": "977d6492-a0a1-4152-bd54-c08b755cfe2a",
   "metadata": {},
   "outputs": [
    {
     "name": "stdin",
     "output_type": "stream",
     "text": [
      "Enter number of elements:  4\n",
      "Enter element 1:  3\n",
      "Enter element 2:  2\n",
      "Enter element 3:  4\n",
      "Enter element 4:  5\n"
     ]
    },
    {
     "name": "stdout",
     "output_type": "stream",
     "text": [
      "Largest difference: 3\n"
     ]
    }
   ],
   "source": [
    "def largest_difference():\n",
    "    n = int(input(\"Enter number of elements: \"))\n",
    "    arr = [int(input(f\"Enter element {i+1}: \")) for i in range(n)]\n",
    "    max_diff = max(arr) - min(arr)\n",
    "    print(f\"Largest difference: {max_diff}\")\n",
    "\n",
    "largest_difference()\n"
   ]
  },
  {
   "cell_type": "code",
   "execution_count": null,
   "id": "c2f2db76-e6ec-4b7b-ad98-78c6b62437c2",
   "metadata": {},
   "outputs": [],
   "source": []
  }
 ],
 "metadata": {
  "kernelspec": {
   "display_name": "Python 3 (ipykernel)",
   "language": "python",
   "name": "python3"
  },
  "language_info": {
   "codemirror_mode": {
    "name": "ipython",
    "version": 3
   },
   "file_extension": ".py",
   "mimetype": "text/x-python",
   "name": "python",
   "nbconvert_exporter": "python",
   "pygments_lexer": "ipython3",
   "version": "3.12.4"
  }
 },
 "nbformat": 4,
 "nbformat_minor": 5
}
