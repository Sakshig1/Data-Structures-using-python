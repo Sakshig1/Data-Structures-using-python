{
 "cells": [
  {
   "cell_type": "code",
   "execution_count": 1,
   "id": "e55c0cf6-0baf-481c-b42b-81ac7bc7f556",
   "metadata": {},
   "outputs": [
    {
     "name": "stdin",
     "output_type": "stream",
     "text": [
      "Enter number of elements:  4\n",
      "Enter element 1:  23\n",
      "Enter element 2:  32\n",
      "Enter element 3:  44\n",
      "Enter element 4:  55\n"
     ]
    },
    {
     "name": "stdout",
     "output_type": "stream",
     "text": [
      "Count of prime numbers: 1\n"
     ]
    }
   ],
   "source": [
    "def is_prime(n):\n",
    "    if n <= 1:\n",
    "        return False\n",
    "    for i in range(2, int(n ** 0.5) + 1):\n",
    "        if n % i == 0:\n",
    "            return False\n",
    "    return True\n",
    "\n",
    "def count_primes():\n",
    "    n = int(input(\"Enter number of elements: \"))\n",
    "    arr = [int(input(f\"Enter element {i+1}: \")) for i in range(n)]\n",
    "    prime_count = sum(1 for x in arr if is_prime(x))\n",
    "    print(f\"Count of prime numbers: {prime_count}\")\n",
    "\n",
    "count_primes()\n"
   ]
  },
  {
   "cell_type": "code",
   "execution_count": null,
   "id": "68727889-4177-4192-a245-b42edc6d8f80",
   "metadata": {},
   "outputs": [],
   "source": []
  }
 ],
 "metadata": {
  "kernelspec": {
   "display_name": "Python 3 (ipykernel)",
   "language": "python",
   "name": "python3"
  },
  "language_info": {
   "codemirror_mode": {
    "name": "ipython",
    "version": 3
   },
   "file_extension": ".py",
   "mimetype": "text/x-python",
   "name": "python",
   "nbconvert_exporter": "python",
   "pygments_lexer": "ipython3",
   "version": "3.12.4"
  }
 },
 "nbformat": 4,
 "nbformat_minor": 5
}
