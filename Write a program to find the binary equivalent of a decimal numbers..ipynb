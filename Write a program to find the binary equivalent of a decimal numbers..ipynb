{
 "cells": [
  {
   "cell_type": "code",
   "execution_count": 3,
   "id": "19e5bdf6-0be7-4ab8-9076-a51995f4fc06",
   "metadata": {},
   "outputs": [
    {
     "name": "stdin",
     "output_type": "stream",
     "text": [
      "Enter a decimal number:  3\n"
     ]
    },
    {
     "name": "stdout",
     "output_type": "stream",
     "text": [
      "Binary equivalent: 11\n"
     ]
    }
   ],
   "source": [
    "def decimal_to_binary():\n",
    "    num = int(input(\"Enter a decimal number: \"))\n",
    "    binary = bin(num)[2:]  \n",
    "    print(f\"Binary equivalent: {binary}\")\n",
    "\n",
    "decimal_to_binary()\n"
   ]
  },
  {
   "cell_type": "code",
   "execution_count": null,
   "id": "f86dcc6b-e882-451b-828c-d3b8f774d9b1",
   "metadata": {},
   "outputs": [],
   "source": []
  }
 ],
 "metadata": {
  "kernelspec": {
   "display_name": "Python 3 (ipykernel)",
   "language": "python",
   "name": "python3"
  },
  "language_info": {
   "codemirror_mode": {
    "name": "ipython",
    "version": 3
   },
   "file_extension": ".py",
   "mimetype": "text/x-python",
   "name": "python",
   "nbconvert_exporter": "python",
   "pygments_lexer": "ipython3",
   "version": "3.12.4"
  }
 },
 "nbformat": 4,
 "nbformat_minor": 5
}
