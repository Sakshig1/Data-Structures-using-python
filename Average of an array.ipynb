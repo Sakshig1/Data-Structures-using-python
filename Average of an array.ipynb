{
 "cells": [
  {
   "cell_type": "code",
   "execution_count": 7,
   "id": "51c46de9-4262-4d9d-9e8a-d943dec83fff",
   "metadata": {},
   "outputs": [
    {
     "name": "stdout",
     "output_type": "stream",
     "text": [
      "<class 'array.array'>\n",
      "Sum: 34\n",
      "Average: 4.857142857142857\n"
     ]
    }
   ],
   "source": [
    "import array as ar\n",
    "x=ar.array('i',[3,5,2,7,8,4,5])\n",
    "print(type(x))\n",
    "x_sum=sum(x)\n",
    "print(\"Sum:\",x_sum)\n",
    "length=len(x)\n",
    "average=x_sum/length\n",
    "print(\"Average:\",average)"
   ]
  },
  {
   "cell_type": "code",
   "execution_count": 9,
   "id": "64597b34-ed94-4efd-89cf-f2d44298b251",
   "metadata": {},
   "outputs": [
    {
     "name": "stdout",
     "output_type": "stream",
     "text": [
      "<class 'numpy.ndarray'>\n",
      "Sum: 34\n",
      "Average: 4.857142857142857\n"
     ]
    }
   ],
   "source": [
    "import numpy as np\n",
    "x=np.array([3,5,2,7,8,4,5])\n",
    "print(type(x))\n",
    "x_sum=sum(x)\n",
    "print(\"Sum:\",x_sum)\n",
    "length=len(x)\n",
    "average=x_sum/length\n",
    "print(\"Average:\",average)"
   ]
  },
  {
   "cell_type": "code",
   "execution_count": null,
   "id": "b84648b8-a1f9-4265-a85b-b63b789699c5",
   "metadata": {},
   "outputs": [],
   "source": []
  }
 ],
 "metadata": {
  "kernelspec": {
   "display_name": "Python 3 (ipykernel)",
   "language": "python",
   "name": "python3"
  },
  "language_info": {
   "codemirror_mode": {
    "name": "ipython",
    "version": 3
   },
   "file_extension": ".py",
   "mimetype": "text/x-python",
   "name": "python",
   "nbconvert_exporter": "python",
   "pygments_lexer": "ipython3",
   "version": "3.12.4"
  }
 },
 "nbformat": 4,
 "nbformat_minor": 5
}
