{
 "cells": [
  {
   "cell_type": "code",
   "execution_count": 4,
   "id": "57af3c56-aa0b-4303-a2aa-65b34b7e1773",
   "metadata": {},
   "outputs": [
    {
     "name": "stdin",
     "output_type": "stream",
     "text": [
      "Enter number of elements:  4\n",
      "Enter element 1:  2\n",
      "Enter element 2:  3\n",
      "Enter element 3:  1\n",
      "Enter element 4:  1\n"
     ]
    },
    {
     "name": "stdout",
     "output_type": "stream",
     "text": [
      "Count of odd numbers: 3\n"
     ]
    }
   ],
   "source": [
    "def count_odds():\n",
    "    n = int(input(\"Enter number of elements: \"))\n",
    "    arr = [int(input(f\"Enter element {i+1}: \")) for i in range(n)]\n",
    "    count = sum(1 for x in arr if x % 2 != 0)\n",
    "    print(f\"Count of odd numbers: {count}\")\n",
    "\n",
    "count_odds()\n"
   ]
  },
  {
   "cell_type": "code",
   "execution_count": null,
   "id": "7003c11b-6932-4d7b-8580-5a44c39f2e70",
   "metadata": {},
   "outputs": [],
   "source": []
  }
 ],
 "metadata": {
  "kernelspec": {
   "display_name": "Python 3 (ipykernel)",
   "language": "python",
   "name": "python3"
  },
  "language_info": {
   "codemirror_mode": {
    "name": "ipython",
    "version": 3
   },
   "file_extension": ".py",
   "mimetype": "text/x-python",
   "name": "python",
   "nbconvert_exporter": "python",
   "pygments_lexer": "ipython3",
   "version": "3.12.4"
  }
 },
 "nbformat": 4,
 "nbformat_minor": 5
}
