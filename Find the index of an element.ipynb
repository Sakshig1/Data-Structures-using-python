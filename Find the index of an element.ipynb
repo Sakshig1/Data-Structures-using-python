{
 "cells": [
  {
   "cell_type": "code",
   "execution_count": 27,
   "id": "e963fd7f-9414-4ce6-82c2-b81d275cd6c4",
   "metadata": {},
   "outputs": [
    {
     "name": "stdin",
     "output_type": "stream",
     "text": [
      " 20\n"
     ]
    },
    {
     "name": "stdout",
     "output_type": "stream",
     "text": [
      "2\n"
     ]
    }
   ],
   "source": [
    "import numpy as np\n",
    "x=np.array([10,30,20,60,50])\n",
    "ele=int(input())\n",
    "def e_index(x,ele):\n",
    "    n=len(x)\n",
    "    try:\n",
    "        for i in range(n):\n",
    "            if x[i]==ele:\n",
    "                return i\n",
    "        raise ValueError(\"not found\")\n",
    "    except ValueError:\n",
    "        return -1\n",
    "res=e_index(x,ele)\n",
    "print(res)"
   ]
  },
  {
   "cell_type": "code",
   "execution_count": 25,
   "id": "fa50990e-fca1-42a5-97f9-ec1a968be475",
   "metadata": {},
   "outputs": [
    {
     "name": "stdin",
     "output_type": "stream",
     "text": [
      " 11\n"
     ]
    },
    {
     "name": "stdout",
     "output_type": "stream",
     "text": [
      "-1\n"
     ]
    }
   ],
   "source": [
    "import array as arr\n",
    "x=arr.array('i',[10,30,20,60,50])\n",
    "ele=int(input())\n",
    "def e_index(x,ele):\n",
    "    n=len(x)\n",
    "    try:\n",
    "        for i in range(n):\n",
    "            if x[i]==ele:\n",
    "                return i\n",
    "        raise ValueError(\"not found\")\n",
    "    except ValueError:\n",
    "        return -1\n",
    "res=e_index(x,ele)\n",
    "print(res)"
   ]
  },
  {
   "cell_type": "code",
   "execution_count": null,
   "id": "3ae75dd8-597c-4121-b593-a03b05d95610",
   "metadata": {},
   "outputs": [],
   "source": []
  }
 ],
 "metadata": {
  "kernelspec": {
   "display_name": "Python 3 (ipykernel)",
   "language": "python",
   "name": "python3"
  },
  "language_info": {
   "codemirror_mode": {
    "name": "ipython",
    "version": 3
   },
   "file_extension": ".py",
   "mimetype": "text/x-python",
   "name": "python",
   "nbconvert_exporter": "python",
   "pygments_lexer": "ipython3",
   "version": "3.12.4"
  }
 },
 "nbformat": 4,
 "nbformat_minor": 5
}
